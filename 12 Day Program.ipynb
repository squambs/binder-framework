{
 "cells": [
  {
   "cell_type": "markdown",
   "id": "0ab64dae",
   "metadata": {},
   "source": [
    "DAY 4"
   ]
  },
  {
   "cell_type": "code",
   "execution_count": 20,
   "id": "d794fbff",
   "metadata": {},
   "outputs": [],
   "source": [
    "import pandas as pd\n",
    "import numpy as np\n",
    "import matplotlib.pyplot as plt\n",
    "\n",
    "data = pd.read_csv(r'C:\\Users\\Johnny\\Documents\\TDI\\Value_of_Energy_Cost_Savings_Program_Savings_for_Businesses_-_FY2020.csv')"
   ]
  },
  {
   "cell_type": "code",
   "execution_count": 4,
   "id": "34171fdf",
   "metadata": {},
   "outputs": [
    {
     "name": "stdout",
     "output_type": "stream",
     "text": [
      "The number of companies in the file is 439\n"
     ]
    }
   ],
   "source": [
    "# 1 Number of different companies\n",
    "\n",
    "comp_list = data['Company Name'].unique()\n",
    "\n",
    "print(\"The number of companies in the file is\", len(comp_list))\n"
   ]
  },
  {
   "cell_type": "code",
   "execution_count": 5,
   "id": "f77aabba",
   "metadata": {},
   "outputs": [
    {
     "name": "stdout",
     "output_type": "stream",
     "text": [
      "The number of jobs created in Queens is 90\n"
     ]
    }
   ],
   "source": [
    "# 2 Total number of jobs created in Queens\n",
    "\n",
    "q_list = data[data['City'] == 'Queens']\n",
    "num_jobs = q_list[['Job created']].sum()\n",
    "\n",
    "print(\"The number of jobs created in Queens is\", int(num_jobs))"
   ]
  },
  {
   "cell_type": "code",
   "execution_count": 6,
   "id": "cbabe9c9",
   "metadata": {},
   "outputs": [
    {
     "name": "stdout",
     "output_type": "stream",
     "text": [
      "The number of unique email domains is 361\n"
     ]
    }
   ],
   "source": [
    "# 3 Unique email domains\n",
    "\n",
    "e_list = data[['company email']].dropna()\n",
    "u_list = e_list['company email'].unique()\n",
    "dom_list = []\n",
    "\n",
    "for ii in range(len(u_list)):\n",
    "    yy = u_list[ii]\n",
    "    xx = yy.find('@')\n",
    "    if yy[xx+1:] in dom_list:\n",
    "        continue\n",
    "    else:\n",
    "        dom_list.append(yy[xx+1:])\n",
    "\n",
    "print(\"The number of unique email domains is\", int(len(dom_list)))"
   ]
  },
  {
   "cell_type": "code",
   "execution_count": 7,
   "id": "b93993f1",
   "metadata": {},
   "outputs": [
    {
     "name": "stdout",
     "output_type": "stream",
     "text": [
      "NTA Name: SoHo-TriBeCa-Civic Center-Little Italy , Avg Total Savings: $ 37214.0 , Jobs created: 0\n",
      "NTA Name: Battery Park City-Lower Manhattan , Avg Total Savings: $ 469890.77777777775 , Jobs created: 0\n",
      "NTA Name: Sunset Park West , Avg Total Savings: $ 14316.958333333334 , Jobs created: 0\n",
      "NTA Name: Hunters Point-Sunnyside-West Maspeth , Avg Total Savings: $ 23931.386666666665 , Jobs created: 0\n",
      "NTA Name: College Point , Avg Total Savings: $ 17159.285714285714 , Jobs created: 2\n",
      "NTA Name: Carroll Gardens-Columbia Street-Red Hook , Avg Total Savings: $ 24337.363636363636 , Jobs created: 0\n",
      "NTA Name: Steinway , Avg Total Savings: $ 11227.142857142857 , Jobs created: 20\n",
      "NTA Name: DUMBO-Vinegar Hill-Downtown Brooklyn-Boerum Hill , Avg Total Savings: $ 59950.3 , Jobs created: 0\n",
      "NTA Name: Hunts Point , Avg Total Savings: $ 39246.0 , Jobs created: 12\n",
      "NTA Name: Bushwick South , Avg Total Savings: $ 26140.4 , Jobs created: 10\n",
      "NTA Name: Manhattanville , Avg Total Savings: $ 2760.8888888888887 , Jobs created: 0\n",
      "NTA Name: Crown Heights North , Avg Total Savings: $ 4036.222222222222 , Jobs created: 0\n",
      "NTA Name: Queensbridge-Ravenswood-Long Island City , Avg Total Savings: $ 61830.75 , Jobs created: 0\n",
      "NTA Name: Springfield Gardens South-Brookville , Avg Total Savings: $ 17757.6 , Jobs created: 0\n",
      "NTA Name: Mott Haven-Port Morris , Avg Total Savings: $ 17843.928571428572 , Jobs created: 10\n",
      "NTA Name: Maspeth , Avg Total Savings: $ 6658.222222222223 , Jobs created: 10\n",
      "NTA Name: park-cemetery-etc-Brooklyn , Avg Total Savings: $ 14327.4 , Jobs created: 0\n",
      "NTA Name: Greenpoint , Avg Total Savings: $ 9753.642857142857 , Jobs created: 0\n",
      "NTA Name: East Williamsburg , Avg Total Savings: $ 13990.545454545454 , Jobs created: 0\n",
      "NTA Name: East New York , Avg Total Savings: $ 48433.0 , Jobs created: 15\n"
     ]
    }
   ],
   "source": [
    "# 4 NTA's with at least 5 businesses\n",
    "\n",
    "n_list = data['NTA'].unique()\n",
    "names = pd.DataFrame()\n",
    "\n",
    "for kk in range(len(n_list)):\n",
    "    p = data[data['NTA'] == n_list[kk]]\n",
    "    if len(p) > 4:\n",
    "        names = pd.concat([names,p], ignore_index = False)\n",
    "        print(\"NTA Name:\", n_list[kk], \", Avg Total Savings: $\", int(p['Total Savings'].sum())/len(p), \n",
    "        \", Jobs created:\",int(p['Job created'].sum()))\n",
    "names.to_csv('day4.csv')"
   ]
  },
  {
   "cell_type": "markdown",
   "id": "3aaaff69",
   "metadata": {},
   "source": [
    "DAY 5"
   ]
  },
  {
   "cell_type": "code",
   "execution_count": 8,
   "id": "c0913e38",
   "metadata": {},
   "outputs": [],
   "source": [
    "dnta = pd.read_csv(r'C:\\Users\\Johnny\\Documents\\TDI\\day4.csv')"
   ]
  },
  {
   "cell_type": "code",
   "execution_count": 29,
   "id": "7ffe08ac",
   "metadata": {},
   "outputs": [
    {
     "data": {
      "text/plain": [
       "Text(0, 0.5, 'Jobs Created')"
      ]
     },
     "execution_count": 29,
     "metadata": {},
     "output_type": "execute_result"
    },
    {
     "data": {
      "image/png": "[encoded data removed]",
      "text/plain": [
       "<Figure size 432x288 with 1 Axes>"
      ]
     },
     "metadata": {
      "needs_background": "light"
     },
     "output_type": "display_data"
    }
   ],
   "source": [
    "# 1. scatter plot of jobs created vs. average savings\n",
    "\n",
    "j_list = []\n",
    "a_list = []\n",
    "# remember that n_list contains the names of the correlating NTA's\n",
    "\n",
    "for kk in range(len(n_list)):\n",
    "    p = data[data['NTA'] == n_list[kk]]\n",
    "    if len(p) > 4:\n",
    "        j_list.append(int(p['Job created'].sum()))\n",
    "        a_list.append(int(p['Total Savings'].sum())/len(p))\n",
    "        #print(\"NTA Name:\", n_list[kk], \", Avg Total Savings: $\", int(p['Total Savings'].sum())/len(p), \n",
    "        #\", Jobs created:\",int(p['Job created'].sum()))\n",
    "fig, ax = plt.subplots(1)\n",
    "ax.scatter(a_list,j_list,marker='o')\n",
    "ax.set_title('Jobs Created vs. Average Total Savings')\n",
    "ax.set_xlabel('Average Total Savings')\n",
    "ax.set_ylabel('Jobs Created')"
   ]
  },
  {
   "cell_type": "code",
   "execution_count": 43,
   "id": "5d89d4cb",
   "metadata": {},
   "outputs": [
    {
     "data": {
      "text/plain": [
       "Text(0, 0.5, 'Jobs Created')"
      ]
     },
     "execution_count": 43,
     "metadata": {},
     "output_type": "execute_result"
    },
    {
     "data": {
      "image/png": "[encoded data removed]",
      "text/plain": [
       "<Figure size 432x288 with 1 Axes>"
      ]
     },
     "metadata": {
      "needs_background": "light"
     },
     "output_type": "display_data"
    }
   ],
   "source": [
    "# logarithmic scale\n",
    "fig, bx = plt.subplots(1)\n",
    "bx.scatter(a_list,j_list,marker='o')\n",
    "plt.xscale('log')\n",
    "bx.set_title('Jobs Created vs. Average Total Savings')\n",
    "bx.set_xlabel('Average Total Savings')\n",
    "bx.set_ylabel('Jobs Created')\n"
   ]
  },
  {
   "cell_type": "code",
   "execution_count": 44,
   "id": "c9c381c7",
   "metadata": {},
   "outputs": [
    {
     "data": {
      "text/plain": [
       "Text(0.5, 0, 'Average Total Savings')"
      ]
     },
     "execution_count": 44,
     "metadata": {},
     "output_type": "execute_result"
    },
    {
     "data": {
      "image/png": "[encoded data removed]",
      "text/plain": [
       "<Figure size 432x288 with 1 Axes>"
      ]
     },
     "metadata": {
      "needs_background": "light"
     },
     "output_type": "display_data"
    }
   ],
   "source": [
    "# histogram\n",
    "\n",
    "fig, cx = plt.subplots(1)\n",
    "cx.hist(a_list,)\n",
    "plt.xscale('log')\n",
    "cx.set_xlabel('Average Total Savings')"
   ]
  },
  {
   "cell_type": "code",
   "execution_count": 147,
   "id": "9089c0fc",
   "metadata": {},
   "outputs": [
    {
     "data": {
      "text/plain": [
       "Text(0, 0.5, 'Jobs Created')"
      ]
     },
     "execution_count": 147,
     "metadata": {},
     "output_type": "execute_result"
    },
    {
     "data": {
      "image/png": "[encoded data removed]",
      "text/plain": [
       "<Figure size 432x288 with 1 Axes>"
      ]
     },
     "metadata": {
      "needs_background": "light"
     },
     "output_type": "display_data"
    }
   ],
   "source": [
    "# line plot\n",
    "\n",
    "jdata = dnta[dnta['Job created'] > 0]\n",
    "mdata = jdata['Effective Date']\n",
    "\n",
    "m_list =[]\n",
    "o_list =[]\n",
    "\n",
    "for jj in range(len(mdata)):\n",
    "    pp = mdata.iloc[jj]\n",
    "    m_list.append(int(pp[:pp.find('/')]))\n",
    "    o_list.append(int(jdata[['Job created']].iloc[jj]))\n",
    "\n",
    "    \n",
    "mindex = []\n",
    "for kk in range(len(m_list)):\n",
    "    mindex.append(m_list[kk])\n",
    "\n",
    "m_list.sort()\n",
    "\n",
    "nnuumm = []\n",
    "for mm in range(len(m_list)):\n",
    "    nnuumm.append(m_list.index(mindex[mm]))\n",
    "\n",
    "bnn = []    \n",
    "for nn in range(len(nnuumm)):\n",
    "    bnn.append(o_list[nnuumm[nn]])\n",
    "    \n",
    "    \n",
    "fig, pp = plt.subplots(1)\n",
    "plt.plot(m_list, bnn)\n",
    "pp.set_title('Jobs Created vs. Month of the Year')\n",
    "pp.set_xlabel('Month of the Year')\n",
    "pp.set_ylabel('Jobs Created')"
   ]
  },
  {
   "cell_type": "code",
   "execution_count": 133,
   "id": "76749999",
   "metadata": {},
   "outputs": [
    {
     "data": {
      "text/plain": [
       "[5, 7, 2, 12, 11, 4, 6, 3, 2]"
      ]
     },
     "execution_count": 133,
     "metadata": {},
     "output_type": "execute_result"
    }
   ],
   "source": []
  },
  {
   "cell_type": "code",
   "execution_count": 132,
   "id": "4290e353",
   "metadata": {},
   "outputs": [
    {
     "data": {
      "text/plain": [
       "[2, 20, 12, 10, 5, 2, 3, 10, 15]"
      ]
     },
     "execution_count": 132,
     "metadata": {},
     "output_type": "execute_result"
    }
   ],
   "source": []
  },
  {
   "cell_type": "code",
   "execution_count": 136,
   "id": "45358ee8",
   "metadata": {},
   "outputs": [
    {
     "data": {
      "text/plain": [
       "[4, 6, 0, 8, 7, 3, 5, 2, 0]"
      ]
     },
     "execution_count": 136,
     "metadata": {},
     "output_type": "execute_result"
    }
   ],
   "source": []
  },
  {
   "cell_type": "code",
   "execution_count": 138,
   "id": "ce1edb78",
   "metadata": {},
   "outputs": [
    {
     "data": {
      "text/plain": [
       "[5, 3, 2, 15, 10, 10, 2, 12, 2]"
      ]
     },
     "execution_count": 138,
     "metadata": {},
     "output_type": "execute_result"
    }
   ],
   "source": []
  },
  {
   "cell_type": "code",
   "execution_count": 139,
   "id": "f4756e72",
   "metadata": {},
   "outputs": [
    {
     "data": {
      "text/plain": [
       "[2, 2, 3, 4, 5, 6, 7, 11, 12]"
      ]
     },
     "execution_count": 139,
     "metadata": {},
     "output_type": "execute_result"
    }
   ],
   "source": []
  },
  {
   "cell_type": "code",
   "execution_count": 140,
   "id": "bbd8e525",
   "metadata": {},
   "outputs": [
    {
     "data": {
      "text/plain": [
       "[5, 7, 2, 12, 11, 4, 6, 3, 2]"
      ]
     },
     "execution_count": 140,
     "metadata": {},
     "output_type": "execute_result"
    }
   ],
   "source": []
  },
  {
   "cell_type": "code",
   "execution_count": null,
   "id": "c3f1e40d",
   "metadata": {},
   "outputs": [],
   "source": []
  }
 ],
 "metadata": {
  "kernelspec": {
   "display_name": "Python 3 (ipykernel)",
   "language": "python",
   "name": "python3"
  },
  "language_info": {
   "codemirror_mode": {
    "name": "ipython",
    "version": 3
   },
   "file_extension": ".py",
   "mimetype": "text/x-python",
   "name": "python",
   "nbconvert_exporter": "python",
   "pygments_lexer": "ipython3",
   "version": "3.9.12"
  }
 },
 "nbformat": 4,
 "nbformat_minor": 5
}
